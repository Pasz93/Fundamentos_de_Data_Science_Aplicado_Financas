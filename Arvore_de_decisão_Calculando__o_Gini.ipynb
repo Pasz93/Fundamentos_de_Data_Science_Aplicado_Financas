{
  "nbformat": 4,
  "nbformat_minor": 0,
  "metadata": {
    "colab": {
      "provenance": [],
      "authorship_tag": "ABX9TyNGvWfB5DBwOCFm0ePFmX+I",
      "include_colab_link": true
    },
    "kernelspec": {
      "name": "python3",
      "display_name": "Python 3"
    },
    "language_info": {
      "name": "python"
    }
  },
  "cells": [
    {
      "cell_type": "markdown",
      "metadata": {
        "id": "view-in-github",
        "colab_type": "text"
      },
      "source": [
        "<a href=\"https://colab.research.google.com/github/Pasz93/Fundamentos_de_Data_Science_Aplicado_Financas/blob/main/Arvore_de_decis%C3%A3o_Calculando__o_Gini.ipynb\" target=\"_parent\"><img src=\"https://colab.research.google.com/assets/colab-badge.svg\" alt=\"Open In Colab\"/></a>"
      ]
    },
    {
      "cell_type": "code",
      "execution_count": 1,
      "metadata": {
        "colab": {
          "base_uri": "https://localhost:8080/"
        },
        "id": "n1vzhjnBs3d2",
        "outputId": "ac486773-68b6-4d98-9b3e-301d81ec1567"
      },
      "outputs": [
        {
          "output_type": "stream",
          "name": "stdout",
          "text": [
            "Árvore de Decisão:\n",
            "|--- casa_propria_sim <= 0.50\n",
            "|   |--- class: 0\n",
            "|--- casa_propria_sim >  0.50\n",
            "|   |--- class: 1\n",
            "\n",
            "\n",
            "Índice Gini no conjunto de treino: 0.375\n",
            "Índice Gini no conjunto de teste: 0.4444444444444444\n"
          ]
        }
      ],
      "source": [
        "# Importando as bibliotecas necessárias\n",
        "from sklearn.tree import DecisionTreeClassifier, export_text\n",
        "from sklearn.model_selection import train_test_split\n",
        "import pandas as pd\n",
        "\n",
        "# Criando um conjunto de dados de exemplo\n",
        "data = {'sexo': ['M', 'H', 'M', 'H', 'M', 'H', 'H'],\n",
        "        'casa_propria': ['sim', 'não', 'não', 'sim', 'não', 'sim', 'não'],\n",
        "        'default': [0, 1, 0, 1, 0, 1, 0]}  # 0 para não default, 1 para default\n",
        "\n",
        "df = pd.DataFrame(data)\n",
        "\n",
        "# Convertendo variáveis categóricas em variáveis dummy (binárias)\n",
        "df = pd.get_dummies(df, columns=['sexo', 'casa_propria'], drop_first=True)\n",
        "\n",
        "# Separando as variáveis independentes (X) e a variável dependente (y)\n",
        "X = df.drop('default', axis=1)\n",
        "y = df['default']\n",
        "\n",
        "# Dividindo o conjunto de dados em treino e teste\n",
        "X_train, X_test, y_train, y_test = train_test_split(X, y, test_size=0.3, random_state=42)\n",
        "\n",
        "# Criando o modelo de árvore de decisão\n",
        "model = DecisionTreeClassifier(random_state=42)\n",
        "model.fit(X_train, y_train)\n",
        "\n",
        "# Visualizando a árvore de decisão\n",
        "tree_rules = export_text(model, feature_names=list(X.columns))\n",
        "print(\"Árvore de Decisão:\")\n",
        "print(tree_rules)\n",
        "\n",
        "# Calculando o índice Gini\n",
        "gini_train = 1 - sum((y_train.value_counts() / len(y_train)) ** 2)\n",
        "gini_test = 1 - sum((y_test.value_counts() / len(y_test)) ** 2)\n",
        "\n",
        "print(\"\\nÍndice Gini no conjunto de treino:\", gini_train)\n",
        "print(\"Índice Gini no conjunto de teste:\", gini_test)\n"
      ]
    }
  ]
}